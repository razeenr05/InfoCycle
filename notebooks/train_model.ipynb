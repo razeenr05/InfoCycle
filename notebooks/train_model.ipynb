{
 "cells": [
  {
   "cell_type": "markdown",
   "id": "ae67a42b",
   "metadata": {},
   "source": [
    "# InfoCycle — Model Training  \n",
    "\n",
    "**Author:** Razeen Rahman  \n",
    "\n",
    "**Description:**  \n",
    "\n",
    "This notebook trains a ResNet18 deep learning model to classify recyclable materials (e.g., plastic, paper, glass, etc.) using the Garbage Classification dataset.\n",
    "\n",
    "The data set can be found here: https://www.kaggle.com/datasets/mostafaabla/garbage-classification? "
   ]
  },
  {
   "cell_type": "code",
   "execution_count": null,
   "id": "dbfdc92b",
   "metadata": {},
   "outputs": [
    {
     "name": "stdout",
     "output_type": "stream",
     "text": [
      "Using device: cuda\n"
     ]
    }
   ],
   "source": [
    "# imports and device setup\n",
    "import torch\n",
    "import torch.nn as nn\n",
    "import torch.optim as optim\n",
    "from torchvision import datasets, models, transforms\n",
    "from torch.utils.data import DataLoader\n",
    "import matplotlib.pyplot as plt\n",
    "import os\n",
    "import time\n",
    "\n",
    "# device config\n",
    "device = torch.device(\"cuda\" if torch.cuda.is_available() else \"cpu\")\n",
    "\n",
    "print(\"Using device:\", device)"
   ]
  }
 ],
 "metadata": {
  "kernelspec": {
   "display_name": "venv",
   "language": "python",
   "name": "python3"
  },
  "language_info": {
   "codemirror_mode": {
    "name": "ipython",
    "version": 3
   },
   "file_extension": ".py",
   "mimetype": "text/x-python",
   "name": "python",
   "nbconvert_exporter": "python",
   "pygments_lexer": "ipython3",
   "version": "3.12.6"
  }
 },
 "nbformat": 4,
 "nbformat_minor": 5
}
